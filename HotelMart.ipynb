{
 "cells": [
  {
   "cell_type": "markdown",
   "metadata": {},
   "source": [
    "# Data Science in the Real World: HotelMart Hotel Supplies"
   ]
  },
  {
   "cell_type": "markdown",
   "metadata": {},
   "source": [
    "You are a business intelligence analyst for HotelMart, a company that sells hotel supplies.  You are interested in getting a better understanding of your company's inventory and sales.  You have datasets in 3 different CSV files located in the data directory: *products-hotel.csv*, *orders-hotel.csv*, and *sales-hotel.csv*.  You need to produce a set of reports to present to your boss."
   ]
  },
  {
   "cell_type": "markdown",
   "metadata": {},
   "source": [
    "**1]** Import each dataset into its own Pandas DataFrame named products, orders and sales.  Print the first 5 rows of each of your DataFrames to see what your data looks like."
   ]
  },
  {
   "cell_type": "code",
   "execution_count": 1,
   "metadata": {},
   "outputs": [],
   "source": [
    "import pandas as pd\n",
    "products = pd.read_csv('data/products-hotel.csv')\n",
    "sales = pd.read_csv('data/sales-hotel.csv')\n",
    "orders = pd.read_csv('data/orders-hotel.csv')\n",
    "\n",
    "productsdf = pd.DataFrame(products)\n",
    "salesdf = pd.DataFrame(sales)\n",
    "ordersdf = pd.DataFrame(orders)\n"
   ]
  },
  {
   "cell_type": "code",
   "execution_count": 53,
   "metadata": {},
   "outputs": [
    {
     "name": "stdout",
     "output_type": "stream",
     "text": [
      "   ProductID  ProductName  CategoryID  Price\n",
      "0          1  Large Towel           1      9\n",
      "1          2   Hand Towel           1      5\n",
      "2          3    Washcloth           1      3\n",
      "3          4      Shampoo           1     40\n",
      "4          5  Moisturizer           1     40\n",
      "   Store  Dept        Date  Weekly_Sales  IsHoliday\n",
      "0      1     1      5/2/10      24924.50      False\n",
      "1      1     1     12/2/10      46039.49       True\n",
      "2      1     1  19/02/2010      41595.55      False\n",
      "3      1     1  26/02/2010      19403.54      False\n",
      "4      1     1      5/3/10      21827.90      False\n",
      "   OrderDetailID   OrderID  ProductID  Discount  Quantity\n",
      "0              1  13647632         39       0.5         3\n",
      "1              2  24869686         50       NaN         7\n",
      "2              3  24939443         72       NaN         3\n",
      "3              4  12942451         81       0.5         2\n",
      "4              5  12942451         58       0.5         2\n"
     ]
    }
   ],
   "source": [
    "print(productsdf.head())\n",
    "print(salesdf.head())\n",
    "print(ordersdf.head())"
   ]
  },
  {
   "cell_type": "markdown",
   "metadata": {},
   "source": [
    "Notice our CSV file already contained column labels.  Therefore, we do not need to create them for our DataFrames."
   ]
  },
  {
   "cell_type": "markdown",
   "metadata": {},
   "source": [
    "**2]** Use the appropriate DataFrame to calculate the AVERAGE, STANDARD DEVIATION, MAX and MIN Price by CategoryID.  **Do 1 calculation per cell below.**"
   ]
  },
  {
   "cell_type": "code",
   "execution_count": 48,
   "metadata": {
    "scrolled": true
   },
   "outputs": [
    {
     "data": {
      "text/plain": [
       "CategoryID\n",
       "1    3\n",
       "2    3\n",
       "3    5\n",
       "4    8\n",
       "5    3\n",
       "Name: Price, dtype: int64"
      ]
     },
     "execution_count": 48,
     "metadata": {},
     "output_type": "execute_result"
    }
   ],
   "source": [
    "productsdf.groupby(['CategoryID']).Price.min()\n",
    "\n",
    "\n"
   ]
  },
  {
   "cell_type": "code",
   "execution_count": 49,
   "metadata": {},
   "outputs": [
    {
     "data": {
      "text/plain": [
       "CategoryID\n",
       "1     40\n",
       "2     85\n",
       "3    300\n",
       "4    202\n",
       "5    215\n",
       "Name: Price, dtype: int64"
      ]
     },
     "execution_count": 49,
     "metadata": {},
     "output_type": "execute_result"
    }
   ],
   "source": [
    "productsdf.groupby(['CategoryID']).Price.max()\n"
   ]
  },
  {
   "cell_type": "code",
   "execution_count": 51,
   "metadata": {},
   "outputs": [
    {
     "data": {
      "text/plain": [
       "CategoryID\n",
       "1    23.000000\n",
       "2    22.692308\n",
       "3    83.653846\n",
       "4    55.000000\n",
       "5    58.619048\n",
       "Name: Price, dtype: float64"
      ]
     },
     "execution_count": 51,
     "metadata": {},
     "output_type": "execute_result"
    }
   ],
   "source": [
    "productsdf.groupby(['CategoryID']).Price.mean()"
   ]
  },
  {
   "cell_type": "code",
   "execution_count": 52,
   "metadata": {},
   "outputs": [
    {
     "data": {
      "text/plain": [
       "CategoryID\n",
       "1    12.476645\n",
       "2    22.848722\n",
       "3    73.211443\n",
       "4    65.771249\n",
       "5    49.806100\n",
       "Name: Price, dtype: float64"
      ]
     },
     "execution_count": 52,
     "metadata": {},
     "output_type": "execute_result"
    }
   ],
   "source": [
    "productsdf.groupby(['CategoryID']).Price.std()"
   ]
  },
  {
   "cell_type": "markdown",
   "metadata": {},
   "source": [
    "From the above calculations, you obtain very important statistical properties of your product data.  You can see where 50% of your product prices fall below for each category.  You can see how spread out your product prices are from the mean for each category.  Lastly, you can see the range of product prices for each category which can give insight on the existence of extreme values that may have impacted your average product price for each category."
   ]
  },
  {
   "cell_type": "markdown",
   "metadata": {},
   "source": [
    "# **3]** Use the appropriate DataFrame to:\n",
    "- GROUP by ProductID and then aggregate the total Quantity of each ProductID sold.  \n",
    "- Then SORT this grouping using the Pandas Series sort function, **sort_values( )**.  \n",
    "- Lastly, FILTER out the top 5 largest Quantity values for this grouping."
   ]
  },
  {
   "cell_type": "code",
   "execution_count": 180,
   "metadata": {},
   "outputs": [
    {
     "data": {
      "text/html": [
       "<div>\n",
       "<style scoped>\n",
       "    .dataframe tbody tr th:only-of-type {\n",
       "        vertical-align: middle;\n",
       "    }\n",
       "\n",
       "    .dataframe tbody tr th {\n",
       "        vertical-align: top;\n",
       "    }\n",
       "\n",
       "    .dataframe thead tr th {\n",
       "        text-align: left;\n",
       "    }\n",
       "\n",
       "    .dataframe thead tr:last-of-type th {\n",
       "        text-align: right;\n",
       "    }\n",
       "</style>\n",
       "<table border=\"1\" class=\"dataframe\">\n",
       "  <thead>\n",
       "    <tr>\n",
       "      <th></th>\n",
       "      <th>Quantity</th>\n",
       "    </tr>\n",
       "    <tr>\n",
       "      <th></th>\n",
       "      <th>sum</th>\n",
       "    </tr>\n",
       "    <tr>\n",
       "      <th>ProductID</th>\n",
       "      <th></th>\n",
       "    </tr>\n",
       "  </thead>\n",
       "  <tbody>\n",
       "    <tr>\n",
       "      <th>94</th>\n",
       "      <td>283</td>\n",
       "    </tr>\n",
       "    <tr>\n",
       "      <th>93</th>\n",
       "      <td>315</td>\n",
       "    </tr>\n",
       "    <tr>\n",
       "      <th>92</th>\n",
       "      <td>345</td>\n",
       "    </tr>\n",
       "    <tr>\n",
       "      <th>91</th>\n",
       "      <td>415</td>\n",
       "    </tr>\n",
       "    <tr>\n",
       "      <th>90</th>\n",
       "      <td>334</td>\n",
       "    </tr>\n",
       "    <tr>\n",
       "      <th>89</th>\n",
       "      <td>328</td>\n",
       "    </tr>\n",
       "    <tr>\n",
       "      <th>88</th>\n",
       "      <td>340</td>\n",
       "    </tr>\n",
       "    <tr>\n",
       "      <th>87</th>\n",
       "      <td>412</td>\n",
       "    </tr>\n",
       "    <tr>\n",
       "      <th>86</th>\n",
       "      <td>347</td>\n",
       "    </tr>\n",
       "    <tr>\n",
       "      <th>85</th>\n",
       "      <td>322</td>\n",
       "    </tr>\n",
       "    <tr>\n",
       "      <th>84</th>\n",
       "      <td>312</td>\n",
       "    </tr>\n",
       "    <tr>\n",
       "      <th>83</th>\n",
       "      <td>323</td>\n",
       "    </tr>\n",
       "    <tr>\n",
       "      <th>82</th>\n",
       "      <td>364</td>\n",
       "    </tr>\n",
       "    <tr>\n",
       "      <th>81</th>\n",
       "      <td>415</td>\n",
       "    </tr>\n",
       "    <tr>\n",
       "      <th>80</th>\n",
       "      <td>357</td>\n",
       "    </tr>\n",
       "    <tr>\n",
       "      <th>79</th>\n",
       "      <td>292</td>\n",
       "    </tr>\n",
       "    <tr>\n",
       "      <th>78</th>\n",
       "      <td>313</td>\n",
       "    </tr>\n",
       "    <tr>\n",
       "      <th>77</th>\n",
       "      <td>333</td>\n",
       "    </tr>\n",
       "    <tr>\n",
       "      <th>76</th>\n",
       "      <td>306</td>\n",
       "    </tr>\n",
       "    <tr>\n",
       "      <th>75</th>\n",
       "      <td>376</td>\n",
       "    </tr>\n",
       "    <tr>\n",
       "      <th>74</th>\n",
       "      <td>237</td>\n",
       "    </tr>\n",
       "    <tr>\n",
       "      <th>73</th>\n",
       "      <td>285</td>\n",
       "    </tr>\n",
       "    <tr>\n",
       "      <th>72</th>\n",
       "      <td>325</td>\n",
       "    </tr>\n",
       "    <tr>\n",
       "      <th>71</th>\n",
       "      <td>330</td>\n",
       "    </tr>\n",
       "    <tr>\n",
       "      <th>70</th>\n",
       "      <td>422</td>\n",
       "    </tr>\n",
       "    <tr>\n",
       "      <th>69</th>\n",
       "      <td>345</td>\n",
       "    </tr>\n",
       "    <tr>\n",
       "      <th>68</th>\n",
       "      <td>371</td>\n",
       "    </tr>\n",
       "    <tr>\n",
       "      <th>67</th>\n",
       "      <td>316</td>\n",
       "    </tr>\n",
       "    <tr>\n",
       "      <th>66</th>\n",
       "      <td>334</td>\n",
       "    </tr>\n",
       "    <tr>\n",
       "      <th>65</th>\n",
       "      <td>322</td>\n",
       "    </tr>\n",
       "    <tr>\n",
       "      <th>...</th>\n",
       "      <td>...</td>\n",
       "    </tr>\n",
       "    <tr>\n",
       "      <th>30</th>\n",
       "      <td>338</td>\n",
       "    </tr>\n",
       "    <tr>\n",
       "      <th>29</th>\n",
       "      <td>350</td>\n",
       "    </tr>\n",
       "    <tr>\n",
       "      <th>28</th>\n",
       "      <td>316</td>\n",
       "    </tr>\n",
       "    <tr>\n",
       "      <th>27</th>\n",
       "      <td>345</td>\n",
       "    </tr>\n",
       "    <tr>\n",
       "      <th>26</th>\n",
       "      <td>322</td>\n",
       "    </tr>\n",
       "    <tr>\n",
       "      <th>25</th>\n",
       "      <td>277</td>\n",
       "    </tr>\n",
       "    <tr>\n",
       "      <th>24</th>\n",
       "      <td>334</td>\n",
       "    </tr>\n",
       "    <tr>\n",
       "      <th>23</th>\n",
       "      <td>244</td>\n",
       "    </tr>\n",
       "    <tr>\n",
       "      <th>22</th>\n",
       "      <td>351</td>\n",
       "    </tr>\n",
       "    <tr>\n",
       "      <th>21</th>\n",
       "      <td>366</td>\n",
       "    </tr>\n",
       "    <tr>\n",
       "      <th>20</th>\n",
       "      <td>342</td>\n",
       "    </tr>\n",
       "    <tr>\n",
       "      <th>19</th>\n",
       "      <td>267</td>\n",
       "    </tr>\n",
       "    <tr>\n",
       "      <th>18</th>\n",
       "      <td>297</td>\n",
       "    </tr>\n",
       "    <tr>\n",
       "      <th>17</th>\n",
       "      <td>344</td>\n",
       "    </tr>\n",
       "    <tr>\n",
       "      <th>16</th>\n",
       "      <td>342</td>\n",
       "    </tr>\n",
       "    <tr>\n",
       "      <th>15</th>\n",
       "      <td>286</td>\n",
       "    </tr>\n",
       "    <tr>\n",
       "      <th>14</th>\n",
       "      <td>273</td>\n",
       "    </tr>\n",
       "    <tr>\n",
       "      <th>13</th>\n",
       "      <td>270</td>\n",
       "    </tr>\n",
       "    <tr>\n",
       "      <th>12</th>\n",
       "      <td>264</td>\n",
       "    </tr>\n",
       "    <tr>\n",
       "      <th>11</th>\n",
       "      <td>288</td>\n",
       "    </tr>\n",
       "    <tr>\n",
       "      <th>10</th>\n",
       "      <td>337</td>\n",
       "    </tr>\n",
       "    <tr>\n",
       "      <th>9</th>\n",
       "      <td>293</td>\n",
       "    </tr>\n",
       "    <tr>\n",
       "      <th>8</th>\n",
       "      <td>267</td>\n",
       "    </tr>\n",
       "    <tr>\n",
       "      <th>7</th>\n",
       "      <td>341</td>\n",
       "    </tr>\n",
       "    <tr>\n",
       "      <th>6</th>\n",
       "      <td>315</td>\n",
       "    </tr>\n",
       "    <tr>\n",
       "      <th>5</th>\n",
       "      <td>325</td>\n",
       "    </tr>\n",
       "    <tr>\n",
       "      <th>4</th>\n",
       "      <td>240</td>\n",
       "    </tr>\n",
       "    <tr>\n",
       "      <th>3</th>\n",
       "      <td>347</td>\n",
       "    </tr>\n",
       "    <tr>\n",
       "      <th>2</th>\n",
       "      <td>334</td>\n",
       "    </tr>\n",
       "    <tr>\n",
       "      <th>1</th>\n",
       "      <td>322</td>\n",
       "    </tr>\n",
       "  </tbody>\n",
       "</table>\n",
       "<p>94 rows × 1 columns</p>\n",
       "</div>"
      ],
      "text/plain": [
       "          Quantity\n",
       "               sum\n",
       "ProductID         \n",
       "94             283\n",
       "93             315\n",
       "92             345\n",
       "91             415\n",
       "90             334\n",
       "89             328\n",
       "88             340\n",
       "87             412\n",
       "86             347\n",
       "85             322\n",
       "84             312\n",
       "83             323\n",
       "82             364\n",
       "81             415\n",
       "80             357\n",
       "79             292\n",
       "78             313\n",
       "77             333\n",
       "76             306\n",
       "75             376\n",
       "74             237\n",
       "73             285\n",
       "72             325\n",
       "71             330\n",
       "70             422\n",
       "69             345\n",
       "68             371\n",
       "67             316\n",
       "66             334\n",
       "65             322\n",
       "...            ...\n",
       "30             338\n",
       "29             350\n",
       "28             316\n",
       "27             345\n",
       "26             322\n",
       "25             277\n",
       "24             334\n",
       "23             244\n",
       "22             351\n",
       "21             366\n",
       "20             342\n",
       "19             267\n",
       "18             297\n",
       "17             344\n",
       "16             342\n",
       "15             286\n",
       "14             273\n",
       "13             270\n",
       "12             264\n",
       "11             288\n",
       "10             337\n",
       "9              293\n",
       "8              267\n",
       "7              341\n",
       "6              315\n",
       "5              325\n",
       "4              240\n",
       "3              347\n",
       "2              334\n",
       "1              322\n",
       "\n",
       "[94 rows x 1 columns]"
      ]
     },
     "execution_count": 180,
     "metadata": {},
     "output_type": "execute_result"
    }
   ],
   "source": [
    "df = pd.DataFrame(orders)\n",
    "total = pd.DataFrame(df, columns=['ProductID', 'Quantity'])\n",
    "total_quantity = total.groupby(['ProductID']).agg({'Quantity': [sum]})\n",
    "total_sort = total_quantity.reset_index().sort_values(['ProductID'], ascending=False).set_index(['ProductID'])\n",
    "total_sort"
   ]
  },
  {
   "cell_type": "markdown",
   "metadata": {},
   "source": [
    "**4]** Filter on the ProductName in the products DataFrame for each ProductID in the top 5 largest Quantity totals found above.  What are the top 5 best-selling products of all time for HotelMart?"
   ]
  },
  {
   "cell_type": "code",
   "execution_count": 213,
   "metadata": {},
   "outputs": [
    {
     "data": {
      "text/html": [
       "<div>\n",
       "<style scoped>\n",
       "    .dataframe tbody tr th:only-of-type {\n",
       "        vertical-align: middle;\n",
       "    }\n",
       "\n",
       "    .dataframe tbody tr th {\n",
       "        vertical-align: top;\n",
       "    }\n",
       "\n",
       "    .dataframe thead th {\n",
       "        text-align: right;\n",
       "    }\n",
       "</style>\n",
       "<table border=\"1\" class=\"dataframe\">\n",
       "  <thead>\n",
       "    <tr style=\"text-align: right;\">\n",
       "      <th></th>\n",
       "      <th></th>\n",
       "      <th>CategoryID</th>\n",
       "      <th>Price</th>\n",
       "    </tr>\n",
       "    <tr>\n",
       "      <th>ProductName</th>\n",
       "      <th>ProductID</th>\n",
       "      <th></th>\n",
       "      <th></th>\n",
       "    </tr>\n",
       "  </thead>\n",
       "  <tbody>\n",
       "    <tr>\n",
       "      <th>Adjustable Wrench</th>\n",
       "      <th>67</th>\n",
       "      <td>4</td>\n",
       "      <td>10</td>\n",
       "    </tr>\n",
       "    <tr>\n",
       "      <th>Alarm Clock</th>\n",
       "      <th>39</th>\n",
       "      <td>3</td>\n",
       "      <td>45</td>\n",
       "    </tr>\n",
       "    <tr>\n",
       "      <th>Armoire</th>\n",
       "      <th>36</th>\n",
       "      <td>3</td>\n",
       "      <td>115</td>\n",
       "    </tr>\n",
       "    <tr>\n",
       "      <th>Bar Stool</th>\n",
       "      <th>83</th>\n",
       "      <td>5</td>\n",
       "      <td>60</td>\n",
       "    </tr>\n",
       "    <tr>\n",
       "      <th>Bath Soap</th>\n",
       "      <th>8</th>\n",
       "      <td>1</td>\n",
       "      <td>35</td>\n",
       "    </tr>\n",
       "  </tbody>\n",
       "</table>\n",
       "</div>"
      ],
      "text/plain": [
       "                             CategoryID  Price\n",
       "ProductName       ProductID                   \n",
       "Adjustable Wrench 67                  4     10\n",
       "Alarm Clock       39                  3     45\n",
       "Armoire           36                  3    115\n",
       "Bar Stool         83                  5     60\n",
       "Bath Soap         8                   1     35"
      ]
     },
     "execution_count": 213,
     "metadata": {},
     "output_type": "execute_result"
    }
   ],
   "source": [
    "df = pd.DataFrame(products)\n",
    "total\n",
    "df.groupby(['ProductName','ProductID']).sum().head()"
   ]
  },
  {
   "cell_type": "markdown",
   "metadata": {},
   "source": [
    "**5]** How do the AVERAGE Weekly_Sales on a holiday compare to those on a non-holiday?  Use the 1st cell below to code your calculation and the 2nd cell to explain your results.  In general, is this what you would expect?  Explain."
   ]
  },
  {
   "cell_type": "code",
   "execution_count": 216,
   "metadata": {},
   "outputs": [
    {
     "data": {
      "text/plain": [
       "IsHoliday\n",
       "False    15901.445069\n",
       "True     17035.823187\n",
       "Name: Weekly_Sales, dtype: float64"
      ]
     },
     "execution_count": 216,
     "metadata": {},
     "output_type": "execute_result"
    }
   ],
   "source": [
    "df = pd.DataFrame(sales)\n",
    "df.groupby(['IsHoliday']).Weekly_Sales.mean()"
   ]
  },
  {
   "cell_type": "code",
   "execution_count": null,
   "metadata": {
    "collapsed": true
   },
   "outputs": [],
   "source": [
    "This is what I would expect during the holidays there are more items on sale"
   ]
  },
  {
   "cell_type": "markdown",
   "metadata": {},
   "source": [
    "Great job with completing this workshop.  You were able to uncover some interesting details about your company’s price data:  where 50% of its product prices fall below and how spread out the price data is for each category.  Comparing this information to other companies selling similar products might give insight on how well HotelMart’s items are priced.  Are competitors’ products on average priced higher/lower for similar categories?  \n",
    "<br><br>\n",
    "You were also able to see which products were HotelMart’s top 5 best-selling.  These products should continue to be sold by the company.  Less selling products should be removed from inventory and no longer sold.  Understanding holiday sales could give insight on whether brick and mortar stores should remain open on holidays.  Significantly increased sales on holidays could indicate that continuing to open stores on these days is a good business decision.\n",
    "<br><br>\n",
    "You are now ready to move on to Workshop 2, Python for Data Visualizations."
   ]
  }
 ],
 "metadata": {
  "kernelspec": {
   "display_name": "Python 3",
   "language": "python",
   "name": "python3"
  },
  "language_info": {
   "codemirror_mode": {
    "name": "ipython",
    "version": 3
   },
   "file_extension": ".py",
   "mimetype": "text/x-python",
   "name": "python",
   "nbconvert_exporter": "python",
   "pygments_lexer": "ipython3",
   "version": "3.7.3"
  }
 },
 "nbformat": 4,
 "nbformat_minor": 2
}
