{
 "cells": [
  {
   "cell_type": "code",
   "execution_count": null,
   "metadata": {},
   "outputs": [],
   "source": []
  },
  {
   "cell_type": "code",
   "execution_count": 52,
   "metadata": {
    "scrolled": true
   },
   "outputs": [
    {
     "name": "stdout",
     "output_type": "stream",
     "text": [
      "          May   5   24.9245\n",
      "0    December  12  46.03949\n",
      "1         May   5  21.82790\n",
      "2    December  12  21.04339\n",
      "3    February   2  57.25843\n",
      "4   September   9  42.96091\n",
      "5        July   7  17.41394\n",
      "6       April   4  17.55809\n",
      "7    November  11  16.63762\n",
      "8    February   2  16.33314\n",
      "9   September   9  17.68876\n",
      "10       June   6  17.50841\n",
      "11      March   3  16.24178\n",
      "12    October  10  18.19474\n",
      "13    January   1  20.09419\n",
      "14     August   8  23.38803\n",
      "15        May   5  34.23888\n",
      "16   December  12  19.54939\n",
      "17      March   3  22.51756\n",
      "18    October  10  31.49765\n",
      "19       July   7  15.98424\n",
      "20      April   4  21.66576\n",
      "21   November  11  37.88717\n",
      "22      April   4  20.32761\n",
      "23   November  11  21.28040\n",
      "24    January   1  20.39809\n",
      "25     August   8  23.87379\n",
      "26       June   6  20.13819\n",
      "27      March   3  16.43415\n",
      "28    October  10  15.88352\n",
      "29    January   1  15.36350\n",
      "30     August   8  16.14887\n",
      "31        May   5  15.29555\n",
      "32   December  12  14.53979\n",
      "33   February   2  15.27727\n",
      "34  September   9  17.74668\n",
      "35       July   7  20.79758\n",
      "36      April   4  39.88606\n",
      "37   November  11  18.68954\n",
      "38   February   2  25.29349\n",
      "39  September   9  33.30592\n"
     ]
    }
   ],
   "source": [
    "import pandas as pd\n",
    "data = pd.read_csv(r\"DataScience-master\\DataScience-master\\jupyter\\data\\orders.csv\")\n",
    "print(data)"
   ]
  },
  {
   "cell_type": "code",
   "execution_count": 53,
   "metadata": {},
   "outputs": [],
   "source": [
    "head = data.head(10)"
   ]
  },
  {
   "cell_type": "code",
   "execution_count": 54,
   "metadata": {},
   "outputs": [
    {
     "name": "stdout",
     "output_type": "stream",
     "text": [
      "         May   5   24.9245\n",
      "0   December  12  46.03949\n",
      "1        May   5  21.82790\n",
      "2   December  12  21.04339\n",
      "3   February   2  57.25843\n",
      "4  September   9  42.96091\n",
      "5       July   7  17.41394\n",
      "6      April   4  17.55809\n",
      "7   November  11  16.63762\n",
      "8   February   2  16.33314\n",
      "9  September   9  17.68876\n"
     ]
    }
   ],
   "source": [
    "print(head)"
   ]
  },
  {
   "cell_type": "code",
   "execution_count": 55,
   "metadata": {},
   "outputs": [],
   "source": [
    "data.columns = [\"Month\", \"Month_Number\", \"Total_Price\"]"
   ]
  },
  {
   "cell_type": "code",
   "execution_count": 56,
   "metadata": {},
   "outputs": [
    {
     "name": "stdout",
     "output_type": "stream",
     "text": [
      "        Month  Month_Number  Total_Price\n",
      "0    December            12     46.03949\n",
      "1         May             5     21.82790\n",
      "2    December            12     21.04339\n",
      "3    February             2     57.25843\n",
      "4   September             9     42.96091\n",
      "5        July             7     17.41394\n",
      "6       April             4     17.55809\n",
      "7    November            11     16.63762\n",
      "8    February             2     16.33314\n",
      "9   September             9     17.68876\n",
      "10       June             6     17.50841\n",
      "11      March             3     16.24178\n",
      "12    October            10     18.19474\n",
      "13    January             1     20.09419\n",
      "14     August             8     23.38803\n",
      "15        May             5     34.23888\n",
      "16   December            12     19.54939\n",
      "17      March             3     22.51756\n",
      "18    October            10     31.49765\n",
      "19       July             7     15.98424\n",
      "20      April             4     21.66576\n",
      "21   November            11     37.88717\n",
      "22      April             4     20.32761\n",
      "23   November            11     21.28040\n",
      "24    January             1     20.39809\n",
      "25     August             8     23.87379\n",
      "26       June             6     20.13819\n",
      "27      March             3     16.43415\n",
      "28    October            10     15.88352\n",
      "29    January             1     15.36350\n",
      "30     August             8     16.14887\n",
      "31        May             5     15.29555\n",
      "32   December            12     14.53979\n",
      "33   February             2     15.27727\n",
      "34  September             9     17.74668\n",
      "35       July             7     20.79758\n",
      "36      April             4     39.88606\n",
      "37   November            11     18.68954\n",
      "38   February             2     25.29349\n",
      "39  September             9     33.30592\n"
     ]
    }
   ],
   "source": [
    "print(data)\n"
   ]
  },
  {
   "cell_type": "code",
   "execution_count": 57,
   "metadata": {},
   "outputs": [
    {
     "data": {
      "text/plain": [
       "<bound method Series.unique of 0      December\n",
       "1           May\n",
       "2      December\n",
       "3      February\n",
       "4     September\n",
       "5          July\n",
       "6         April\n",
       "7      November\n",
       "8      February\n",
       "9     September\n",
       "10         June\n",
       "11        March\n",
       "12      October\n",
       "13      January\n",
       "14       August\n",
       "15          May\n",
       "16     December\n",
       "17        March\n",
       "18      October\n",
       "19         July\n",
       "20        April\n",
       "21     November\n",
       "22        April\n",
       "23     November\n",
       "24      January\n",
       "25       August\n",
       "26         June\n",
       "27        March\n",
       "28      October\n",
       "29      January\n",
       "30       August\n",
       "31          May\n",
       "32     December\n",
       "33     February\n",
       "34    September\n",
       "35         July\n",
       "36        April\n",
       "37     November\n",
       "38     February\n",
       "39    September\n",
       "Name: Month, dtype: object>"
      ]
     },
     "execution_count": 57,
     "metadata": {},
     "output_type": "execute_result"
    }
   ],
   "source": [
    "data[\"Month\"].unique"
   ]
  },
  {
   "cell_type": "code",
   "execution_count": 58,
   "metadata": {},
   "outputs": [],
   "source": [
    "orders_grouped = data.groupby(\"Month_Number\").Total_Price.mean().reset_index()"
   ]
  },
  {
   "cell_type": "code",
   "execution_count": 59,
   "metadata": {},
   "outputs": [
    {
     "name": "stdout",
     "output_type": "stream",
     "text": [
      "    Month_Number  Total_Price\n",
      "0              1    18.618593\n",
      "1              2    28.540582\n",
      "2              3    18.397830\n",
      "3              4    24.859380\n",
      "4              5    23.787443\n",
      "5              6    18.823300\n",
      "6              7    18.065253\n",
      "7              8    21.136897\n",
      "8              9    27.925567\n",
      "9             10    21.858637\n",
      "10            11    23.623683\n",
      "11            12    25.293015\n"
     ]
    }
   ],
   "source": [
    "print(orders_grouped)"
   ]
  },
  {
   "cell_type": "code",
   "execution_count": 60,
   "metadata": {},
   "outputs": [
    {
     "data": {
      "text/html": [
       "<div>\n",
       "<style scoped>\n",
       "    .dataframe tbody tr th:only-of-type {\n",
       "        vertical-align: middle;\n",
       "    }\n",
       "\n",
       "    .dataframe tbody tr th {\n",
       "        vertical-align: top;\n",
       "    }\n",
       "\n",
       "    .dataframe thead th {\n",
       "        text-align: right;\n",
       "    }\n",
       "</style>\n",
       "<table border=\"1\" class=\"dataframe\">\n",
       "  <thead>\n",
       "    <tr style=\"text-align: right;\">\n",
       "      <th></th>\n",
       "      <th>Month_Number</th>\n",
       "      <th>Total_Price</th>\n",
       "    </tr>\n",
       "  </thead>\n",
       "  <tbody>\n",
       "    <tr>\n",
       "      <th>1</th>\n",
       "      <td>2</td>\n",
       "      <td>28.540582</td>\n",
       "    </tr>\n",
       "    <tr>\n",
       "      <th>6</th>\n",
       "      <td>7</td>\n",
       "      <td>18.065253</td>\n",
       "    </tr>\n",
       "  </tbody>\n",
       "</table>\n",
       "</div>"
      ],
      "text/plain": [
       "   Month_Number  Total_Price\n",
       "1             2    28.540582\n",
       "6             7    18.065253"
      ]
     },
     "execution_count": 60,
     "metadata": {},
     "output_type": "execute_result"
    }
   ],
   "source": [
    "orders_grouped[(orders_grouped[\"Total_Price\"] == orders_grouped[\"Total_Price\"].min()) | (orders_grouped[\"Total_Price\"] == orders_grouped[\"Total_Price\"].max())]"
   ]
  },
  {
   "cell_type": "code",
   "execution_count": null,
   "metadata": {},
   "outputs": [],
   "source": []
  },
  {
   "cell_type": "code",
   "execution_count": null,
   "metadata": {},
   "outputs": [],
   "source": []
  },
  {
   "cell_type": "code",
   "execution_count": null,
   "metadata": {},
   "outputs": [],
   "source": []
  },
  {
   "cell_type": "raw",
   "metadata": {},
   "source": []
  },
  {
   "cell_type": "code",
   "execution_count": null,
   "metadata": {
    "scrolled": true
   },
   "outputs": [],
   "source": []
  },
  {
   "cell_type": "code",
   "execution_count": null,
   "metadata": {},
   "outputs": [],
   "source": []
  },
  {
   "cell_type": "code",
   "execution_count": null,
   "metadata": {},
   "outputs": [],
   "source": []
  },
  {
   "cell_type": "code",
   "execution_count": null,
   "metadata": {},
   "outputs": [],
   "source": []
  },
  {
   "cell_type": "code",
   "execution_count": null,
   "metadata": {},
   "outputs": [],
   "source": []
  },
  {
   "cell_type": "code",
   "execution_count": null,
   "metadata": {},
   "outputs": [],
   "source": []
  },
  {
   "cell_type": "code",
   "execution_count": null,
   "metadata": {},
   "outputs": [],
   "source": []
  },
  {
   "cell_type": "code",
   "execution_count": null,
   "metadata": {},
   "outputs": [],
   "source": []
  },
  {
   "cell_type": "code",
   "execution_count": null,
   "metadata": {},
   "outputs": [],
   "source": []
  },
  {
   "cell_type": "code",
   "execution_count": null,
   "metadata": {},
   "outputs": [],
   "source": []
  },
  {
   "cell_type": "code",
   "execution_count": null,
   "metadata": {},
   "outputs": [],
   "source": []
  },
  {
   "cell_type": "code",
   "execution_count": null,
   "metadata": {},
   "outputs": [],
   "source": []
  },
  {
   "cell_type": "code",
   "execution_count": null,
   "metadata": {},
   "outputs": [],
   "source": []
  },
  {
   "cell_type": "code",
   "execution_count": null,
   "metadata": {},
   "outputs": [],
   "source": []
  },
  {
   "cell_type": "code",
   "execution_count": null,
   "metadata": {},
   "outputs": [],
   "source": []
  },
  {
   "cell_type": "code",
   "execution_count": null,
   "metadata": {},
   "outputs": [],
   "source": []
  },
  {
   "cell_type": "code",
   "execution_count": null,
   "metadata": {},
   "outputs": [],
   "source": []
  },
  {
   "cell_type": "code",
   "execution_count": null,
   "metadata": {},
   "outputs": [],
   "source": []
  },
  {
   "cell_type": "code",
   "execution_count": null,
   "metadata": {},
   "outputs": [],
   "source": []
  },
  {
   "cell_type": "code",
   "execution_count": null,
   "metadata": {},
   "outputs": [],
   "source": []
  },
  {
   "cell_type": "code",
   "execution_count": null,
   "metadata": {},
   "outputs": [],
   "source": []
  },
  {
   "cell_type": "code",
   "execution_count": null,
   "metadata": {},
   "outputs": [],
   "source": []
  },
  {
   "cell_type": "code",
   "execution_count": null,
   "metadata": {},
   "outputs": [],
   "source": []
  },
  {
   "cell_type": "code",
   "execution_count": null,
   "metadata": {},
   "outputs": [],
   "source": []
  },
  {
   "cell_type": "code",
   "execution_count": null,
   "metadata": {},
   "outputs": [],
   "source": []
  },
  {
   "cell_type": "code",
   "execution_count": null,
   "metadata": {},
   "outputs": [],
   "source": []
  },
  {
   "cell_type": "code",
   "execution_count": null,
   "metadata": {},
   "outputs": [],
   "source": []
  }
 ],
 "metadata": {
  "kernelspec": {
   "display_name": "Python 3",
   "language": "python",
   "name": "python3"
  },
  "language_info": {
   "codemirror_mode": {
    "name": "ipython",
    "version": 3
   },
   "file_extension": ".py",
   "mimetype": "text/x-python",
   "name": "python",
   "nbconvert_exporter": "python",
   "pygments_lexer": "ipython3",
   "version": "3.6.0"
  }
 },
 "nbformat": 4,
 "nbformat_minor": 2
}
