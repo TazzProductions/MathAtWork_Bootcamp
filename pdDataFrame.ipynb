{
 "cells": [
  {
   "cell_type": "code",
   "execution_count": 1,
   "metadata": {},
   "outputs": [],
   "source": [
    "import csv"
   ]
  },
  {
   "cell_type": "code",
   "execution_count": 2,
   "metadata": {},
   "outputs": [],
   "source": [
    "import pandas as pd\n"
   ]
  },
  {
   "cell_type": "code",
   "execution_count": 13,
   "metadata": {},
   "outputs": [],
   "source": [
    "orders = pd.read_csv('DataScience-master/DataScience-master/jupyter/data/orders.csv')"
   ]
  },
  {
   "cell_type": "code",
   "execution_count": 14,
   "metadata": {},
   "outputs": [
    {
     "name": "stdout",
     "output_type": "stream",
     "text": [
      "          May   5   24.9245\n",
      "0    December  12  46.03949\n",
      "1         May   5  21.82790\n",
      "2    December  12  21.04339\n",
      "3    February   2  57.25843\n",
      "4   September   9  42.96091\n",
      "5        July   7  17.41394\n",
      "6       April   4  17.55809\n",
      "7    November  11  16.63762\n",
      "8    February   2  16.33314\n",
      "9   September   9  17.68876\n",
      "10       June   6  17.50841\n",
      "11      March   3  16.24178\n",
      "12    October  10  18.19474\n",
      "13    January   1  20.09419\n",
      "14     August   8  23.38803\n",
      "15        May   5  34.23888\n",
      "16   December  12  19.54939\n",
      "17      March   3  22.51756\n",
      "18    October  10  31.49765\n",
      "19       July   7  15.98424\n",
      "20      April   4  21.66576\n",
      "21   November  11  37.88717\n",
      "22      April   4  20.32761\n",
      "23   November  11  21.28040\n",
      "24    January   1  20.39809\n",
      "25     August   8  23.87379\n",
      "26       June   6  20.13819\n",
      "27      March   3  16.43415\n",
      "28    October  10  15.88352\n",
      "29    January   1  15.36350\n",
      "30     August   8  16.14887\n",
      "31        May   5  15.29555\n",
      "32   December  12  14.53979\n",
      "33   February   2  15.27727\n",
      "34  September   9  17.74668\n",
      "35       July   7  20.79758\n",
      "36      April   4  39.88606\n",
      "37   November  11  18.68954\n",
      "38   February   2  25.29349\n",
      "39  September   9  33.30592\n"
     ]
    }
   ],
   "source": [
    "print(orders)"
   ]
  },
  {
   "cell_type": "code",
   "execution_count": 18,
   "metadata": {},
   "outputs": [],
   "source": [
    "header = ['Month', 'Month_Number', 'Total_Price']"
   ]
  },
  {
   "cell_type": "code",
   "execution_count": 21,
   "metadata": {},
   "outputs": [],
   "source": [
    "orders.columns = header"
   ]
  },
  {
   "cell_type": "code",
   "execution_count": 22,
   "metadata": {},
   "outputs": [
    {
     "name": "stdout",
     "output_type": "stream",
     "text": [
      "        Month  Month_Number  Total_Price\n",
      "0    December            12     46.03949\n",
      "1         May             5     21.82790\n",
      "2    December            12     21.04339\n",
      "3    February             2     57.25843\n",
      "4   September             9     42.96091\n",
      "5        July             7     17.41394\n",
      "6       April             4     17.55809\n",
      "7    November            11     16.63762\n",
      "8    February             2     16.33314\n",
      "9   September             9     17.68876\n",
      "10       June             6     17.50841\n",
      "11      March             3     16.24178\n",
      "12    October            10     18.19474\n",
      "13    January             1     20.09419\n",
      "14     August             8     23.38803\n",
      "15        May             5     34.23888\n",
      "16   December            12     19.54939\n",
      "17      March             3     22.51756\n",
      "18    October            10     31.49765\n",
      "19       July             7     15.98424\n",
      "20      April             4     21.66576\n",
      "21   November            11     37.88717\n",
      "22      April             4     20.32761\n",
      "23   November            11     21.28040\n",
      "24    January             1     20.39809\n",
      "25     August             8     23.87379\n",
      "26       June             6     20.13819\n",
      "27      March             3     16.43415\n",
      "28    October            10     15.88352\n",
      "29    January             1     15.36350\n",
      "30     August             8     16.14887\n",
      "31        May             5     15.29555\n",
      "32   December            12     14.53979\n",
      "33   February             2     15.27727\n",
      "34  September             9     17.74668\n",
      "35       July             7     20.79758\n",
      "36      April             4     39.88606\n",
      "37   November            11     18.68954\n",
      "38   February             2     25.29349\n",
      "39  September             9     33.30592\n"
     ]
    }
   ],
   "source": [
    "print(orders)"
   ]
  },
  {
   "cell_type": "code",
   "execution_count": 23,
   "metadata": {},
   "outputs": [],
   "source": [
    "unq = orders['Month'].unique"
   ]
  },
  {
   "cell_type": "code",
   "execution_count": 25,
   "metadata": {},
   "outputs": [
    {
     "name": "stdout",
     "output_type": "stream",
     "text": [
      "<bound method Series.unique of 0      December\n",
      "1           May\n",
      "2      December\n",
      "3      February\n",
      "4     September\n",
      "5          July\n",
      "6         April\n",
      "7      November\n",
      "8      February\n",
      "9     September\n",
      "10         June\n",
      "11        March\n",
      "12      October\n",
      "13      January\n",
      "14       August\n",
      "15          May\n",
      "16     December\n",
      "17        March\n",
      "18      October\n",
      "19         July\n",
      "20        April\n",
      "21     November\n",
      "22        April\n",
      "23     November\n",
      "24      January\n",
      "25       August\n",
      "26         June\n",
      "27        March\n",
      "28      October\n",
      "29      January\n",
      "30       August\n",
      "31          May\n",
      "32     December\n",
      "33     February\n",
      "34    September\n",
      "35         July\n",
      "36        April\n",
      "37     November\n",
      "38     February\n",
      "39    September\n",
      "Name: Month, dtype: object>\n"
     ]
    }
   ],
   "source": [
    "print(unq)"
   ]
  },
  {
   "cell_type": "code",
   "execution_count": null,
   "metadata": {},
   "outputs": [],
   "source": []
  }
 ],
 "metadata": {
  "kernelspec": {
   "display_name": "Python 3",
   "language": "python",
   "name": "python3"
  },
  "language_info": {
   "codemirror_mode": {
    "name": "ipython",
    "version": 3
   },
   "file_extension": ".py",
   "mimetype": "text/x-python",
   "name": "python",
   "nbconvert_exporter": "python",
   "pygments_lexer": "ipython3",
   "version": "3.6.0"
  }
 },
 "nbformat": 4,
 "nbformat_minor": 2
}
